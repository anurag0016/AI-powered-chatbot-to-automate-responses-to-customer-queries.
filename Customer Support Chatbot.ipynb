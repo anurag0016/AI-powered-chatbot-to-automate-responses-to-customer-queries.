{
 "cells": [
  {
   "cell_type": "code",
   "execution_count": 1,
   "id": "9a11dd75-505e-4573-8763-cf2b94a9c071",
   "metadata": {},
   "outputs": [],
   "source": [
    " import random\n",
    "from IPython.display import display, Markdown\n"
   ]
  },
  {
   "cell_type": "code",
   "execution_count": 2,
   "id": "caf36603-73c4-4e65-a5e7-802113da18f3",
   "metadata": {},
   "outputs": [],
   "source": [
    "intents = {\n",
    "    \"greeting\": {\n",
    "        \"patterns\": [\"hello\", \"hi\", \"hey\", \"good morning\", \"good evening\"],\n",
    "        \"responses\": [\"Hello! How can I help you?\", \"Hi there! What can I do for you today?\"]\n",
    "    },\n",
    "    \"order_status\": {\n",
    "        \"patterns\": [\"where is my order\", \"track my order\", \"order status\", \"order update\"],\n",
    "        \"responses\": [\"Sure! Please share your order ID.\", \"Let me check your order status. What’s your order number?\"]\n",
    "    },\n",
    "    \"return_policy\": {\n",
    "        \"patterns\": [\"return policy\", \"how to return\", \"can I return\", \"return my product\"],\n",
    "        \"responses\": [\"You can return your product within 7 days of delivery.\", \"Our return policy lasts 7 days. Would you like to initiate a return?\"]\n",
    "    },\n",
    "    \"payment_issue\": {\n",
    "        \"patterns\": [\"payment failed\", \"payment issue\", \"transaction error\", \"card declined\"],\n",
    "        \"responses\": [\"I'm sorry to hear that. Can you try a different payment method?\", \"Please check if your bank has approved the transaction or contact our billing support.\"]\n",
    "    },\n",
    "    \"goodbye\": {\n",
    "        \"patterns\": [\"bye\", \"see you\", \"thank you\", \"thanks\"],\n",
    "        \"responses\": [\"You're welcome! Let us know if you need anything else.\", \"Goodbye! Have a great day!\"]\n",
    "    }\n",
    "}\n"
   ]
  },
  {
   "cell_type": "code",
   "execution_count": 3,
   "id": "d812c029-ad5e-4420-911f-70563c8cf297",
   "metadata": {},
   "outputs": [],
   "source": [
    "def match_intent(user_input):\n",
    "    user_input = user_input.lower()\n",
    "    for intent, data in intents.items():\n",
    "        for pattern in data[\"patterns\"]:\n",
    "            if pattern in user_input:\n",
    "                return random.choice(data[\"responses\"])\n",
    "    return \"I'm sorry, I didn’t understand that. Can you rephrase?\"\n"
   ]
  },
  {
   "cell_type": "code",
   "execution_count": null,
   "id": "b1a9ef45-89cd-4858-8d1c-4a577aa13885",
   "metadata": {},
   "outputs": [
    {
     "name": "stdout",
     "output_type": "stream",
     "text": [
      "🤖 Chatbot: Hello! I'm your support assistant. Type 'exit' to end the chat.\n",
      "\n"
     ]
    },
    {
     "name": "stdin",
     "output_type": "stream",
     "text": [
      "You:  hello\n"
     ]
    },
    {
     "name": "stdout",
     "output_type": "stream",
     "text": [
      "🤖 Chatbot: Hello! How can I help you?\n"
     ]
    },
    {
     "name": "stdin",
     "output_type": "stream",
     "text": [
      "You:  where is my order\n"
     ]
    },
    {
     "name": "stdout",
     "output_type": "stream",
     "text": [
      "🤖 Chatbot: Let me check your order status. What’s your order number?\n"
     ]
    },
    {
     "name": "stdin",
     "output_type": "stream",
     "text": [
      "You:  payment isse \n"
     ]
    },
    {
     "name": "stdout",
     "output_type": "stream",
     "text": [
      "🤖 Chatbot: I'm sorry, I didn’t understand that. Can you rephrase?\n"
     ]
    },
    {
     "name": "stdin",
     "output_type": "stream",
     "text": [
      "You:  payment issue \n"
     ]
    },
    {
     "name": "stdout",
     "output_type": "stream",
     "text": [
      "🤖 Chatbot: I'm sorry to hear that. Can you try a different payment method?\n"
     ]
    },
    {
     "name": "stdin",
     "output_type": "stream",
     "text": [
      "You:  card decline\n"
     ]
    },
    {
     "name": "stdout",
     "output_type": "stream",
     "text": [
      "🤖 Chatbot: I'm sorry, I didn’t understand that. Can you rephrase?\n"
     ]
    },
    {
     "name": "stdin",
     "output_type": "stream",
     "text": [
      "You:  thanks\n"
     ]
    },
    {
     "name": "stdout",
     "output_type": "stream",
     "text": [
      "🤖 Chatbot: Goodbye! Have a great day!\n"
     ]
    }
   ],
   "source": [
    "print(\"🤖 Chatbot: Hello! I'm your support assistant. Type 'exit' to end the chat.\\n\")\n",
    "\n",
    "while True:\n",
    "    user_input = input(\"You: \")\n",
    "    if user_input.lower() == 'exit':\n",
    "        print(\"🤖 Chatbot: Thank you! Goodbye.\")\n",
    "        break\n",
    "    response = match_intent(user_input)\n",
    "    print(\"🤖 Chatbot:\", response)\n"
   ]
  },
  {
   "cell_type": "code",
   "execution_count": null,
   "id": "7db71e27-77e9-41ac-ad1b-f95876c76f1d",
   "metadata": {},
   "outputs": [],
   "source": []
  }
 ],
 "metadata": {
  "kernelspec": {
   "display_name": "Python 3 (ipykernel)",
   "language": "python",
   "name": "python3"
  },
  "language_info": {
   "codemirror_mode": {
    "name": "ipython",
    "version": 3
   },
   "file_extension": ".py",
   "mimetype": "text/x-python",
   "name": "python",
   "nbconvert_exporter": "python",
   "pygments_lexer": "ipython3",
   "version": "3.12.2"
  }
 },
 "nbformat": 4,
 "nbformat_minor": 5
}
