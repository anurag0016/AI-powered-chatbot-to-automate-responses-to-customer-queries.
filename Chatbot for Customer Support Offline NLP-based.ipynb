{
 "cells": [
  {
   "cell_type": "code",
   "execution_count": 1,
   "id": "1de8d5f7-92dd-4f44-9a23-5db4a6f8d54f",
   "metadata": {},
   "outputs": [
    {
     "name": "stderr",
     "output_type": "stream",
     "text": [
      "[nltk_data] Downloading package punkt to C:\\Users\\anurag\n",
      "[nltk_data]     arya\\AppData\\Roaming\\nltk_data...\n",
      "[nltk_data]   Unzipping tokenizers\\punkt.zip.\n"
     ]
    },
    {
     "data": {
      "text/plain": [
       "True"
      ]
     },
     "execution_count": 1,
     "metadata": {},
     "output_type": "execute_result"
    }
   ],
   "source": [
    "import nltk\n",
    "import numpy as np\n",
    "from sklearn.feature_extraction.text import CountVectorizer\n",
    "from sklearn.metrics.pairwise import cosine_similarity\n",
    "import random\n",
    "import string\n",
    "\n",
    "nltk.download('punkt')\n"
   ]
  },
  {
   "cell_type": "code",
   "execution_count": 2,
   "id": "0a254afc-2a91-4cf7-9729-bb538dcd9b4f",
   "metadata": {},
   "outputs": [],
   "source": [
    "# Sample customer support data (you can expand this)\n",
    "faq_data = [\n",
    "    \"What are your business hours?\",\n",
    "    \"Our support team is available from 9 AM to 6 PM, Monday to Friday.\",\n",
    "    \n",
    "    \"How do I reset my password?\",\n",
    "    \"To reset your password, click on 'Forgot Password' and follow the instructions sent to your email.\",\n",
    "    \n",
    "    \"How can I contact support?\",\n",
    "    \"You can contact our support via email at support@example.com or call us at 123-456-7890.\",\n",
    "    \n",
    "    \"Where is my order?\",\n",
    "    \"You can track your order using the tracking link sent to your registered email.\",\n",
    "    \n",
    "    \"Do you offer refunds?\",\n",
    "    \"Yes, we offer refunds within 14 days of purchase if the item is unused and in original condition.\"\n",
    "]\n"
   ]
  },
  {
   "cell_type": "code",
   "execution_count": 3,
   "id": "52b7de05-5500-4d4d-bdec-e24af5f364f3",
   "metadata": {},
   "outputs": [],
   "source": [
    " # Split into questions and answers\n",
    "questions = faq_data[::2]\n",
    "answers = faq_data[1::2]\n",
    "\n",
    "# Initialize vectorizer\n",
    "vectorizer = CountVectorizer().fit_transform(questions)\n",
    "\n",
    "# Function to generate response\n",
    "def get_response(user_input):\n",
    "    input_vec = CountVectorizer().fit(questions + [user_input])\n",
    "    question_vecs = input_vec.transform(questions)\n",
    "    user_vec = input_vec.transform([user_input])\n",
    "    \n",
    "    similarity = cosine_similarity(user_vec, question_vecs)\n",
    "    idx = similarity.argmax()\n",
    "    if similarity[0][idx] < 0.3:\n",
    "        return \"I'm sorry, I didn't understand that. Please contact support for further help.\"\n",
    "    return answers[idx]\n"
   ]
  },
  {
   "cell_type": "code",
   "execution_count": null,
   "id": "5fcd3c1c-9dfd-4ba3-add8-4336454ff5b3",
   "metadata": {},
   "outputs": [
    {
     "name": "stdout",
     "output_type": "stream",
     "text": [
      "🤖 ChatBot: Hello! How can I help you today? (Type 'exit' to end)\n"
     ]
    },
    {
     "name": "stdin",
     "output_type": "stream",
     "text": [
      "You:  where is m order \n"
     ]
    },
    {
     "name": "stdout",
     "output_type": "stream",
     "text": [
      "🤖 ChatBot: You can track your order using the tracking link sent to your registered email.\n"
     ]
    },
    {
     "name": "stdin",
     "output_type": "stream",
     "text": [
      "You:  i want my refund \n"
     ]
    },
    {
     "name": "stdout",
     "output_type": "stream",
     "text": [
      "🤖 ChatBot: I'm sorry, I didn't understand that. Please contact support for further help.\n"
     ]
    },
    {
     "name": "stdin",
     "output_type": "stream",
     "text": [
      "You:  ok thanks\n"
     ]
    },
    {
     "name": "stdout",
     "output_type": "stream",
     "text": [
      "🤖 ChatBot: I'm sorry, I didn't understand that. Please contact support for further help.\n"
     ]
    }
   ],
   "source": [
    "print(\"🤖 ChatBot: Hello! How can I help you today? (Type 'exit' to end)\")\n",
    "\n",
    "while True:\n",
    "    user_input = input(\"You: \").lower()\n",
    "    if user_input == 'exit':\n",
    "        print(\"🤖 ChatBot: Thank you! Have a great day.\")\n",
    "        break\n",
    "    else:\n",
    "        print(\"🤖 ChatBot:\", get_response(user_input))\n"
   ]
  },
  {
   "cell_type": "code",
   "execution_count": null,
   "id": "8bb03e67-8bb9-491e-b1c1-cfbc15875895",
   "metadata": {},
   "outputs": [],
   "source": []
  }
 ],
 "metadata": {
  "kernelspec": {
   "display_name": "Python 3 (ipykernel)",
   "language": "python",
   "name": "python3"
  },
  "language_info": {
   "codemirror_mode": {
    "name": "ipython",
    "version": 3
   },
   "file_extension": ".py",
   "mimetype": "text/x-python",
   "name": "python",
   "nbconvert_exporter": "python",
   "pygments_lexer": "ipython3",
   "version": "3.12.2"
  }
 },
 "nbformat": 4,
 "nbformat_minor": 5
}
